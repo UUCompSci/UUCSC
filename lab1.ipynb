{
 "cells": [
  {
   "cell_type": "code",
   "execution_count": 216,
   "metadata": {},
   "outputs": [],
   "source": [
    "import pandas as pd\n",
    "import numpy as np\n",
    "\n",
    "df1 = pd.read_excel('Data/Film_Awards.xlsx' , header=[0], skiprows=1, nrows=3, engine='openpyxl')\n",
    "df2 = pd.read_excel('Data/Film_Awards.xlsx' , header=[0], skiprows=8, nrows=5, engine='openpyxl')\n",
    "df3 = pd.read_excel('Data/Film_Awards.xlsx' , header=[0], skiprows=15, nrows=3, engine='openpyxl')"
   ]
  },
  {
   "attachments": {},
   "cell_type": "markdown",
   "metadata": {},
   "source": [
    "Fill Empty Cells with spaces, instead of 'NaN'. Rename Columns."
   ]
  },
  {
   "cell_type": "code",
   "execution_count": 217,
   "metadata": {},
   "outputs": [],
   "source": [
    "df1 = df1.fillna(\"\")\n",
    "df1 = df1.rename(columns={'Director': \"AA Director\",\"Director.1\":\"GGD Director\",\"Director.2\":\"GGMC Director\", \"Golden Globe - Musical or Comedy\":\"GG-MC\"})\n",
    "df2 = df2.fillna(\"\")\n",
    "df2 = df2.rename(columns={'Film.1': 'Film', \"Film.2\": \"Film\", \"Golden Globe - Musical or Comedy\":\"GG-MC\"})\n",
    "df3 = df3.fillna(\"\")\n",
    "df3 = df3.rename(columns={'Film.1': 'Film', \"Film.2\": \"Film\", \"Golden Globe - Musical or Comedy\":\"GG-MC\"})"
   ]
  },
  {
   "attachments": {},
   "cell_type": "markdown",
   "metadata": {},
   "source": [
    "Fix Mispellings"
   ]
  },
  {
   "cell_type": "code",
   "execution_count": 218,
   "metadata": {},
   "outputs": [],
   "source": [
    "df3.at[1, \"GG-MC\"]='Olivia Colman'\n",
    "df3.at[1, \"Film\"]='The Favourite'\n",
    "df1.at[0, \"Golden Globe - Drama\"]=\"1917\""
   ]
  },
  {
   "attachments": {},
   "cell_type": "markdown",
   "metadata": {},
   "source": [
    "Change header to string and read header type for Best Picture"
   ]
  },
  {
   "cell_type": "code",
   "execution_count": 219,
   "metadata": {},
   "outputs": [
    {
     "name": "stdout",
     "output_type": "stream",
     "text": [
      "Year                    uint16\n",
      "Academy Award           string\n",
      "AA Director             string\n",
      "Golden Globe - Drama    string\n",
      "GGD Director            string\n",
      "GG-MC                   string\n",
      "GGMC Director           string\n",
      "dtype: object\n"
     ]
    }
   ],
   "source": [
    "df1 = df1.astype(\n",
    "    {'Year':np.uint16,\n",
    "    'Academy Award' : pd.StringDtype(),\n",
    "    'AA Director' : pd.StringDtype(),\n",
    "    'Golden Globe - Drama' : pd.StringDtype(),\n",
    "    'GGD Director' : pd.StringDtype(),\n",
    "    'GG-MC' : pd.StringDtype(),\n",
    "    'GGMC Director' : pd.StringDtype()}\n",
    ")\n",
    "print(df1.dtypes)"
   ]
  },
  {
   "attachments": {},
   "cell_type": "markdown",
   "metadata": {},
   "source": [
    "Change header to string and read header type for Best Actor"
   ]
  },
  {
   "cell_type": "code",
   "execution_count": 220,
   "metadata": {},
   "outputs": [
    {
     "name": "stdout",
     "output_type": "stream",
     "text": [
      "Year                    uint16\n",
      "Academy Award           string\n",
      "Film                    string\n",
      "Golden Globe - Drama    string\n",
      "Film                    string\n",
      "GG-MC                   string\n",
      "Film                    string\n",
      "dtype: object\n"
     ]
    }
   ],
   "source": [
    "df2 = df2.astype(\n",
    "    {'Year':np.uint16,\n",
    "    'Academy Award' : pd.StringDtype(),\n",
    "    'Film' : pd.StringDtype(),\n",
    "    'Golden Globe - Drama' : pd.StringDtype(),\n",
    "    'Film' : pd.StringDtype(),\n",
    "    'GG-MC' : pd.StringDtype(),\n",
    "    'Film' : pd.StringDtype()}\n",
    ")\n",
    "print(df2.dtypes)"
   ]
  },
  {
   "attachments": {},
   "cell_type": "markdown",
   "metadata": {},
   "source": [
    "Change header to string and read header type for Best Actress"
   ]
  },
  {
   "cell_type": "code",
   "execution_count": 221,
   "metadata": {},
   "outputs": [
    {
     "name": "stdout",
     "output_type": "stream",
     "text": [
      "Year                    uint16\n",
      "Academy Award           string\n",
      "Film                    string\n",
      "Golden Globe - Drama    string\n",
      "Film                    string\n",
      "GG-MC                   string\n",
      "Film                    string\n",
      "dtype: object\n"
     ]
    }
   ],
   "source": [
    "df3 = df3.astype(\n",
    "    {'Year':np.uint16,\n",
    "    'Academy Award' : pd.StringDtype(),\n",
    "    'Film' : pd.StringDtype(),\n",
    "    'Golden Globe - Drama' : pd.StringDtype(),\n",
    "    'Film' : pd.StringDtype(),\n",
    "    'GG-MC' : pd.StringDtype(),\n",
    "    'Film' : pd.StringDtype()}\n",
    ")\n",
    "print(df3.dtypes)"
   ]
  },
  {
   "attachments": {},
   "cell_type": "markdown",
   "metadata": {},
   "source": [
    "Read fianl Data Frames (Best Picture) (Best Actor) (Best Actress)"
   ]
  },
  {
   "cell_type": "code",
   "execution_count": 222,
   "metadata": {},
   "outputs": [
    {
     "data": {
      "text/html": [
       "<div>\n",
       "<style scoped>\n",
       "    .dataframe tbody tr th:only-of-type {\n",
       "        vertical-align: middle;\n",
       "    }\n",
       "\n",
       "    .dataframe tbody tr th {\n",
       "        vertical-align: top;\n",
       "    }\n",
       "\n",
       "    .dataframe thead th {\n",
       "        text-align: right;\n",
       "    }\n",
       "</style>\n",
       "<table border=\"1\" class=\"dataframe\">\n",
       "  <thead>\n",
       "    <tr style=\"text-align: right;\">\n",
       "      <th></th>\n",
       "      <th>Year</th>\n",
       "      <th>Academy Award</th>\n",
       "      <th>AA Director</th>\n",
       "      <th>Golden Globe - Drama</th>\n",
       "      <th>GGD Director</th>\n",
       "      <th>GG-MC</th>\n",
       "      <th>GGMC Director</th>\n",
       "    </tr>\n",
       "  </thead>\n",
       "  <tbody>\n",
       "    <tr>\n",
       "      <th>0</th>\n",
       "      <td>2019</td>\n",
       "      <td>Parasite</td>\n",
       "      <td>Bong Joon-ho</td>\n",
       "      <td>1917</td>\n",
       "      <td>Sam Mendes</td>\n",
       "      <td>Once Upon a Time in Hollywood</td>\n",
       "      <td>Quentin Tarantino</td>\n",
       "    </tr>\n",
       "    <tr>\n",
       "      <th>1</th>\n",
       "      <td>2018</td>\n",
       "      <td>Green Book</td>\n",
       "      <td>Peter Farrelly</td>\n",
       "      <td>Bohemian Rhapsody</td>\n",
       "      <td>Bryan Singer</td>\n",
       "      <td>Green Book</td>\n",
       "      <td>Peter Farelly</td>\n",
       "    </tr>\n",
       "    <tr>\n",
       "      <th>2</th>\n",
       "      <td>2017</td>\n",
       "      <td>The Shape of Water</td>\n",
       "      <td>Guillermo del Toro</td>\n",
       "      <td>Three Billboards Outside Ebbing, Missouri</td>\n",
       "      <td>Martin McDonagh</td>\n",
       "      <td>Lady Bird</td>\n",
       "      <td>Greta Gerwig</td>\n",
       "    </tr>\n",
       "  </tbody>\n",
       "</table>\n",
       "</div>"
      ],
      "text/plain": [
       "   Year       Academy Award         AA Director  \\\n",
       "0  2019            Parasite        Bong Joon-ho   \n",
       "1  2018          Green Book      Peter Farrelly   \n",
       "2  2017  The Shape of Water  Guillermo del Toro   \n",
       "\n",
       "                        Golden Globe - Drama     GGD Director  \\\n",
       "0                                       1917       Sam Mendes   \n",
       "1                          Bohemian Rhapsody     Bryan Singer   \n",
       "2  Three Billboards Outside Ebbing, Missouri  Martin McDonagh   \n",
       "\n",
       "                           GG-MC      GGMC Director  \n",
       "0  Once Upon a Time in Hollywood  Quentin Tarantino  \n",
       "1                     Green Book      Peter Farelly  \n",
       "2                      Lady Bird       Greta Gerwig  "
      ]
     },
     "execution_count": 222,
     "metadata": {},
     "output_type": "execute_result"
    }
   ],
   "source": [
    "df1"
   ]
  },
  {
   "cell_type": "code",
   "execution_count": 223,
   "metadata": {},
   "outputs": [
    {
     "data": {
      "text/html": [
       "<div>\n",
       "<style scoped>\n",
       "    .dataframe tbody tr th:only-of-type {\n",
       "        vertical-align: middle;\n",
       "    }\n",
       "\n",
       "    .dataframe tbody tr th {\n",
       "        vertical-align: top;\n",
       "    }\n",
       "\n",
       "    .dataframe thead th {\n",
       "        text-align: right;\n",
       "    }\n",
       "</style>\n",
       "<table border=\"1\" class=\"dataframe\">\n",
       "  <thead>\n",
       "    <tr style=\"text-align: right;\">\n",
       "      <th></th>\n",
       "      <th>Year</th>\n",
       "      <th>Academy Award</th>\n",
       "      <th>Film</th>\n",
       "      <th>Golden Globe - Drama</th>\n",
       "      <th>Film</th>\n",
       "      <th>GG-MC</th>\n",
       "      <th>Film</th>\n",
       "    </tr>\n",
       "  </thead>\n",
       "  <tbody>\n",
       "    <tr>\n",
       "      <th>0</th>\n",
       "      <td>2019</td>\n",
       "      <td>Joaquin Phoenix</td>\n",
       "      <td>Joker</td>\n",
       "      <td>Joaquin Phoenix</td>\n",
       "      <td>Joker</td>\n",
       "      <td>Taron Egerton</td>\n",
       "      <td>Rocketman</td>\n",
       "    </tr>\n",
       "    <tr>\n",
       "      <th>1</th>\n",
       "      <td>2018</td>\n",
       "      <td>Rami Malek</td>\n",
       "      <td>Bohemian Rhapsody</td>\n",
       "      <td>Rami Malek</td>\n",
       "      <td>Bohemian Rhapsody</td>\n",
       "      <td>Christian Bale</td>\n",
       "      <td>Vice</td>\n",
       "    </tr>\n",
       "    <tr>\n",
       "      <th>2</th>\n",
       "      <td>2017</td>\n",
       "      <td>Gary Oldman</td>\n",
       "      <td>Darkest Hour</td>\n",
       "      <td>Gary Oldman</td>\n",
       "      <td>Darkest Hour</td>\n",
       "      <td>James Franco</td>\n",
       "      <td>The Disaster Artist</td>\n",
       "    </tr>\n",
       "  </tbody>\n",
       "</table>\n",
       "</div>"
      ],
      "text/plain": [
       "   Year    Academy Award               Film Golden Globe - Drama  \\\n",
       "0  2019  Joaquin Phoenix              Joker      Joaquin Phoenix   \n",
       "1  2018       Rami Malek  Bohemian Rhapsody           Rami Malek   \n",
       "2  2017      Gary Oldman       Darkest Hour          Gary Oldman   \n",
       "\n",
       "                 Film           GG-MC                 Film  \n",
       "0               Joker   Taron Egerton            Rocketman  \n",
       "1  Bohemian Rhapsody   Christian Bale                 Vice  \n",
       "2        Darkest Hour    James Franco  The Disaster Artist  "
      ]
     },
     "execution_count": 223,
     "metadata": {},
     "output_type": "execute_result"
    }
   ],
   "source": [
    "df2"
   ]
  },
  {
   "cell_type": "code",
   "execution_count": 224,
   "metadata": {},
   "outputs": [
    {
     "data": {
      "text/html": [
       "<div>\n",
       "<style scoped>\n",
       "    .dataframe tbody tr th:only-of-type {\n",
       "        vertical-align: middle;\n",
       "    }\n",
       "\n",
       "    .dataframe tbody tr th {\n",
       "        vertical-align: top;\n",
       "    }\n",
       "\n",
       "    .dataframe thead th {\n",
       "        text-align: right;\n",
       "    }\n",
       "</style>\n",
       "<table border=\"1\" class=\"dataframe\">\n",
       "  <thead>\n",
       "    <tr style=\"text-align: right;\">\n",
       "      <th></th>\n",
       "      <th>Year</th>\n",
       "      <th>Academy Award</th>\n",
       "      <th>Film</th>\n",
       "      <th>Golden Globe - Drama</th>\n",
       "      <th>Film</th>\n",
       "      <th>GG-MC</th>\n",
       "      <th>Film</th>\n",
       "    </tr>\n",
       "  </thead>\n",
       "  <tbody>\n",
       "    <tr>\n",
       "      <th>0</th>\n",
       "      <td>2019</td>\n",
       "      <td>Renée Zellweger</td>\n",
       "      <td>Judy</td>\n",
       "      <td>Renée Zellweger</td>\n",
       "      <td>Judy</td>\n",
       "      <td>Awkwafina</td>\n",
       "      <td>The Farewell</td>\n",
       "    </tr>\n",
       "    <tr>\n",
       "      <th>1</th>\n",
       "      <td>2018</td>\n",
       "      <td>Olivia Colman</td>\n",
       "      <td>The Favourite</td>\n",
       "      <td>Glenn Close</td>\n",
       "      <td>The Favourite</td>\n",
       "      <td>Olivia Colman</td>\n",
       "      <td>The Favourite</td>\n",
       "    </tr>\n",
       "    <tr>\n",
       "      <th>2</th>\n",
       "      <td>2017</td>\n",
       "      <td>Frances McDormand</td>\n",
       "      <td>Three Billboards Outside Ebbing, Missouri</td>\n",
       "      <td>Frances McDormand</td>\n",
       "      <td>Three Billboards Outside Ebbing, Missouri</td>\n",
       "      <td>Saoirse Ronan</td>\n",
       "      <td>Lady Bird</td>\n",
       "    </tr>\n",
       "  </tbody>\n",
       "</table>\n",
       "</div>"
      ],
      "text/plain": [
       "   Year      Academy Award                                       Film  \\\n",
       "0  2019    Renée Zellweger                                       Judy   \n",
       "1  2018      Olivia Colman                              The Favourite   \n",
       "2  2017  Frances McDormand  Three Billboards Outside Ebbing, Missouri   \n",
       "\n",
       "  Golden Globe - Drama                                       Film  \\\n",
       "0      Renée Zellweger                                       Judy   \n",
       "1          Glenn Close                              The Favourite   \n",
       "2    Frances McDormand  Three Billboards Outside Ebbing, Missouri   \n",
       "\n",
       "           GG-MC           Film  \n",
       "0      Awkwafina   The Farewell  \n",
       "1  Olivia Colman  The Favourite  \n",
       "2  Saoirse Ronan      Lady Bird  "
      ]
     },
     "execution_count": 224,
     "metadata": {},
     "output_type": "execute_result"
    }
   ],
   "source": [
    "df3"
   ]
  }
 ],
 "metadata": {
  "kernelspec": {
   "display_name": "Python 3",
   "language": "python",
   "name": "python3"
  },
  "language_info": {
   "codemirror_mode": {
    "name": "ipython",
    "version": 3
   },
   "file_extension": ".py",
   "mimetype": "text/x-python",
   "name": "python",
   "nbconvert_exporter": "python",
   "pygments_lexer": "ipython3",
   "version": "3.10.4"
  },
  "orig_nbformat": 4,
  "vscode": {
   "interpreter": {
    "hash": "3ad933181bd8a04b432d3370b9dc3b0662ad032c4dfaa4e4f1596c548f763858"
   }
  }
 },
 "nbformat": 4,
 "nbformat_minor": 2
}
